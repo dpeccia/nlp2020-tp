{
 "cells": [
  {
   "cell_type": "code",
   "execution_count": 39,
   "metadata": {},
   "outputs": [
    {
     "data": {
      "text/plain": [
       "{'.doc', '.docx', '.pdf', '.pptx'}"
      ]
     },
     "execution_count": 39,
     "metadata": {},
     "output_type": "execute_result"
    }
   ],
   "source": [
    "import os\n",
    "archivos_entrenamiento = os.listdir(\"dataset-nlp-plagio-utn/\")\n",
    "set([os.path.splitext(archivo)[1] for archivo in archivos_entrenamiento]) # obtengo las extensiones de los archivos"
   ]
  },
  {
   "cell_type": "code",
   "execution_count": 51,
   "metadata": {},
   "outputs": [],
   "source": [
    "class ArchivoEntrenamiento:\n",
    "    def __init__(self, nombre, extension, texto):\n",
    "        self.nombre = nombre\n",
    "        self.extension = extension\n",
    "        self.texto = texto"
   ]
  },
  {
   "cell_type": "code",
   "execution_count": 52,
   "metadata": {},
   "outputs": [],
   "source": [
    "from tika import parser\n",
    "from nltk import word_tokenize\n",
    "\n",
    "def convertir_documento_a_txt(archivo):\n",
    "    raw = parser.from_file(archivo)\n",
    "    return raw['content']\n",
    "\n",
    "#word_tokenize(convertir_pdf_txt(\"dataset-nlp-plagio-utn/Domótica_Final.pptx\"))"
   ]
  },
  {
   "cell_type": "code",
   "execution_count": 53,
   "metadata": {},
   "outputs": [],
   "source": [
    "def convertir_archivo_a_txt(archivo):\n",
    "    archivo_nombre, archivo_extension = os.path.splitext(archivo)\n",
    "    if(archivo_extension != \".pptx\"):\n",
    "        archivo_txt = convertir_documento_a_txt(archivo)\n",
    "        return ArchivoEntrenamiento(archivo_nombre, archivo_extension, archivo_txt)\n",
    "    \n",
    "#convertir_archivo_a_txt(\"dataset-nlp-plagio-utn/MKT 2016 - Alan Szpigiel - TP4.pdf\").nombre"
   ]
  },
  {
   "cell_type": "code",
   "execution_count": 55,
   "metadata": {},
   "outputs": [],
   "source": [
    "archivos_entrenamiento_txt = [convertir_archivo_a_txt(\"dataset-nlp-plagio-utn/\" + archivo) for archivo in archivos_entrenamiento]"
   ]
  },
  {
   "cell_type": "code",
   "execution_count": 79,
   "metadata": {},
   "outputs": [
    {
     "data": {
      "text/plain": [
       "'7.- Cuáles son las ventajas para la empresa de la personalización masiva?'"
      ]
     },
     "execution_count": 79,
     "metadata": {},
     "output_type": "execute_result"
    }
   ],
   "source": [
    "from nltk import sent_tokenize # divide en oraciones\n",
    "from nltk import re\n",
    "sent_tokenize(archivos_entrenamiento_txt[1].texto.strip())[10]"
   ]
  },
  {
   "cell_type": "code",
   "execution_count": null,
   "metadata": {},
   "outputs": [],
   "source": []
  }
 ],
 "metadata": {
  "kernelspec": {
   "display_name": "Python [conda env:nlp2020] *",
   "language": "python",
   "name": "conda-env-nlp2020-py"
  },
  "language_info": {
   "codemirror_mode": {
    "name": "ipython",
    "version": 3
   },
   "file_extension": ".py",
   "mimetype": "text/x-python",
   "name": "python",
   "nbconvert_exporter": "python",
   "pygments_lexer": "ipython3",
   "version": "3.7.7"
  }
 },
 "nbformat": 4,
 "nbformat_minor": 4
}
