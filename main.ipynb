{
 "cells": [
  {
   "cell_type": "code",
   "execution_count": 1,
   "metadata": {},
   "outputs": [],
   "source": [
    "import os\n",
    "archivos_entrenamiento = os.listdir(\"Entrenamiento/\")\n",
    "archivo_test = os.listdir(\"Test/\")\n",
    "#set([os.path.splitext(archivo)[1] for archivo in archivos_entrenamiento]) # obtengo las extensiones de los archivos"
   ]
  },
  {
   "cell_type": "code",
   "execution_count": 2,
   "metadata": {},
   "outputs": [],
   "source": [
    "class ArchivoTxt:\n",
    "    def __init__(self, nombre, extension, texto):\n",
    "        self.nombre = nombre\n",
    "        self.extension = extension\n",
    "        self.texto = texto"
   ]
  },
  {
   "cell_type": "code",
   "execution_count": 3,
   "metadata": {},
   "outputs": [],
   "source": [
    "from tika import parser\n",
    "from nltk import word_tokenize\n",
    "\n",
    "def convertir_documento_a_txt(archivo):\n",
    "    raw = parser.from_file(archivo)\n",
    "    return raw['content']\n",
    "\n",
    "#word_tokenize(convertir_pdf_txt(\"dataset-nlp-plagio-utn/Domótica_Final.pptx\"))"
   ]
  },
  {
   "cell_type": "code",
   "execution_count": 4,
   "metadata": {},
   "outputs": [],
   "source": [
    "def convertir_archivo_a_txt(archivo):\n",
    "    archivo_nombre, archivo_extension = os.path.splitext(archivo)\n",
    "    if(archivo_extension != \".pptx\"):\n",
    "        archivo_txt = convertir_documento_a_txt(archivo)\n",
    "        return ArchivoTxt(archivo_nombre, archivo_extension, archivo_txt)\n",
    "    \n",
    "#convertir_archivo_a_txt(\"dataset-nlp-plagio-utn/MKT 2016 - Alan Szpigiel - TP4.pdf\").nombre"
   ]
  },
  {
   "cell_type": "code",
   "execution_count": 5,
   "metadata": {},
   "outputs": [
    {
     "name": "stderr",
     "output_type": "stream",
     "text": [
      "2020-05-25 14:50:54,957 [MainThread  ] [WARNI]  Failed to see startup log message; retrying...\n"
     ]
    }
   ],
   "source": [
    "from nltk import sent_tokenize # divide en oraciones\n",
    "\n",
    "archivos_entrenamiento_txt = [convertir_archivo_a_txt(\"Entrenamiento/\" + archivo) for archivo in archivos_entrenamiento]\n",
    "\n",
    "#for archivo in archivos_entrenamiento_txt:\n",
    "#    if(archivo != None):\n",
    "#        archivo.texto = sent_tokenize(archivo.texto.strip())"
   ]
  },
  {
   "cell_type": "code",
   "execution_count": 6,
   "metadata": {},
   "outputs": [],
   "source": [
    "archivo_test_txt = [convertir_archivo_a_txt(\"Test/\" + archivo) for archivo in archivo_test][0]"
   ]
  },
  {
   "cell_type": "code",
   "execution_count": 7,
   "metadata": {},
   "outputs": [
    {
     "data": {
      "text/plain": [
       "'Test/TP 3 The experience economy'"
      ]
     },
     "execution_count": 7,
     "metadata": {},
     "output_type": "execute_result"
    }
   ],
   "source": [
    "# Nombre del archivo de texto procesado\n",
    "archivo_test_txt.nombre # la extension hace falta?"
   ]
  },
  {
   "cell_type": "code",
   "execution_count": 48,
   "metadata": {},
   "outputs": [
    {
     "name": "stdout",
     "output_type": "stream",
     "text": [
      "['Alejandro Prince', 'Brian Daniel Leder', 'Joseph PINE II', 'James GILMORE', 'Trabajo Práctico', 'Cuáles', '9  Qué', 'adquisición']\n"
     ]
    }
   ],
   "source": [
    "# Nombre y apellido del alumno\n",
    "import spacy\n",
    "import itertools\n",
    "from nltk import line_tokenize\n",
    "from nltk import pos_tag\n",
    "from nltk.corpus import stopwords \n",
    "\n",
    "nombre_alumno=''\n",
    "\n",
    "nlp=spacy.load('es_core_news_sm') # modelo para detectar Entidades (nombres)\n",
    "texto_dividido_en_lineas = [re.sub('[^A-Za-z0-9áéíóúñ ]+', ' ', linea) for linea in line_tokenize(archivo_test_txt.texto.strip())]\n",
    "lineas_pasadas_por_el_modelo = [[(a.text, a.label_) for a in nlp(linea).ents] for linea in texto_dividido_en_lineas]\n",
    "lista_flatenizada = list(itertools.chain.from_iterable(lineas_pasadas_por_el_modelo)) #flatten\n",
    "\n",
    "entidades_reconocidas_como_personas = [texto for (texto,categoria) in lista_flatenizada if categoria == 'PER']\n",
    "\n",
    "sw = stopwords.words('spanish')\n",
    "entidades_reconocidas_como_personas = [entidad for entidad in entidades_reconocidas_como_personas if not entidad.lower().strip() in sw]\n",
    "\n",
    "#print([pos_tag(word_tokenize(entidad)) for entidad in entidades_reconocidas_como_personas])\n",
    "\n",
    "for entidad in entidades_reconocidas_como_personas:\n",
    "    if entidad in archivo_test_txt.nombre:\n",
    "        nombre_alumno = entidad\n",
    "\n",
    "if(nombre_alumno != ''):\n",
    "    print('Nombre y apellido del alumno: ' + nombre_alumno)\n",
    "else: # Fijarse cual de las entidades reconocidas como personas esta en un contexto como Nombre:, Integrantes:, etc\n",
    "    print(entidades_reconocidas_como_personas)\n",
    "    #print([nltk.Text(word_tokenize(archivo_test_txt.texto)).concordance(entidad) for entidad in entidades_reconocidas_como_personas])"
   ]
  },
  {
   "cell_type": "code",
   "execution_count": 43,
   "metadata": {},
   "outputs": [
    {
     "name": "stdout",
     "output_type": "stream",
     "text": [
      "Similitud:  0.4629100498862757\n"
     ]
    }
   ],
   "source": [
    "import re, math\n",
    "from collections import Counter\n",
    "\n",
    "Palabra = re.compile(r'\\w+')\n",
    "\n",
    "def obtener_similitud_del_coseno(vector1, vector2):\n",
    "     interseccion = set(vector1.keys()) & set(vector2.keys())\n",
    "     numerador = sum([vector1[x] * vector2[x] for x in interseccion])\n",
    "\n",
    "     sum1 = sum([vector1[x]**2 for x in vector1.keys()])\n",
    "     sum2 = sum([vector2[x]**2 for x in vector2.keys()])\n",
    "     denominador = math.sqrt(sum1) * math.sqrt(sum2)\n",
    "\n",
    "     if not denominador:\n",
    "        return 0.0\n",
    "     else:\n",
    "        return float(numerador) / denominador\n",
    "\n",
    "def string_a_vector(texto):\n",
    "     palabras = Palabra.findall(texto)\n",
    "     return Counter(palabras)\n",
    "\n",
    "string1 = 'Le dije: Hola como te va Raúl?'\n",
    "string2 = 'Le pregunté a Raúl como estaba'\n",
    "\n",
    "def obtener_similitud(texto1, texto2):\n",
    "    vector1 = string_a_vector(texto1)\n",
    "    vector2 = string_a_vector(texto2)\n",
    "    return obtener_similitud_del_coseno(vector1, vector2)\n",
    "\n",
    "print('Similitud: ', obtener_similitud(string1, string2))"
   ]
  },
  {
   "cell_type": "code",
   "execution_count": 46,
   "metadata": {},
   "outputs": [],
   "source": [
    "def obtener_oracion_mas_parecida(oracion):\n",
    "    mayor_porcentaje = 0.0\n",
    "    oracion_mas_parecida = ''\n",
    "    archivo_donde_se_encontro = ''\n",
    "    for archivo in archivos_entrenamiento_txt:\n",
    "        if(archivo != None and obtener_similitud(archivo_test_txt.texto,archivo.texto)<0.9):\n",
    "            for oracion_a_comparar in sent_tokenize(archivo.texto.strip()):\n",
    "                similitud = obtener_similitud(oracion.lower(), oracion_a_comparar.lower())\n",
    "                if(similitud > mayor_porcentaje):\n",
    "                    mayor_porcentaje = similitud\n",
    "                    oracion_mas_parecida = oracion_a_comparar\n",
    "                    archivo_donde_se_encontro = archivo.nombre\n",
    "                \n",
    "    return (re.sub('[^A-Za-z0-9áéíóúñ:/ ]+', ' ', oracion), re.sub('[^A-Za-z0-9áéíóúñ:/ ]+', ' ', oracion_mas_parecida), mayor_porcentaje, archivo_donde_se_encontro)"
   ]
  },
  {
   "cell_type": "code",
   "execution_count": 47,
   "metadata": {},
   "outputs": [
    {
     "data": {
      "text/plain": [
       "[('Marketing en Internet y Nueva Economía curso: K5052    1 Cuat ',\n",
       "  'Marketing en Internet y Nueva Economía curso: K5052    1 Cuat ',\n",
       "  0.9999999999999998,\n",
       "  'Entrenamiento/TP4 Adopcion (1)'),\n",
       " ('2017 Profesor: Alejandro Prince Fecha de entrega: 10/04/2017 NOMBRE Y APELLIDO LEGAJO N EMAIL CONTACTO Brian Daniel Leder 146 641 0 briandleder gmail com The experience economy   Joseph PINE II y James GILMORE Preguntas de Trabajo Práctico NOTA: no es requerida la lectura ni recordación desde la página 17 inclusive hasta la 20 del texto ',\n",
       "  'Alumno: Andrés Basso                       TP 3: Economía de experiencia Legajo: 124 184 9 The experience economy   Joseph PINE II y James GILMORE Preguntas de Trabajo Práctico NOTA: no es requerida la lectura ni recordación desde la página 17 inclusive hasta la 20 del texto ',\n",
       "  0.708010432393843,\n",
       "  'Entrenamiento/TP 3 - Economía de Experiencia - Andrés Basso (1)'),\n",
       " ('Es obligatoria desde la 1ra hasta la página 16 ',\n",
       "  'Es obligatoria desde la 1ra hasta la página 16 ',\n",
       "  1.0,\n",
       "  'Entrenamiento/K5071 - Matias David Choren - TP3 - Experience Economy'),\n",
       " ('1  Qué 3 elementos hacen resurgir con fuerza la idea de una economía de experiencia ',\n",
       "  '1 Qué 3 elementos hacen resurgir con fuerza la idea de una economía de experiencia ',\n",
       "  1.0,\n",
       "  'Entrenamiento/K5071 - Matias David Choren - TP3 - Experience Economy'),\n",
       " ('2  Defina y caracterice una experiencia ',\n",
       "  '2 Defina y caracterice una experiencia ',\n",
       "  1.0000000000000002,\n",
       "  'Entrenamiento/K5071 - Matias David Choren - TP3 - Experience Economy'),\n",
       " ('Diferencias con Producto y Servicio ',\n",
       "  'Diferencias con Producto y Servicio ',\n",
       "  0.9999999999999998,\n",
       "  'Entrenamiento/K5071 - Matias David Choren - TP3 - Experience Economy'),\n",
       " ('3  Explique y grafique las dimensiones y campos de la experiencia 4  Describa  impresiones  y sus distintas dimensiones ',\n",
       "  '3 Explique y grafique las dimensiones y campos de la experiencia 4 Describa impresiones y sus distintas dimensiones ',\n",
       "  1.0000000000000002,\n",
       "  'Entrenamiento/K5071 - Matias David Choren - TP3 - Experience Economy'),\n",
       " ('5  De 3 ejemplos distintos  reales si conoce  o invente  de experiencias con estimulación de los sentidos ',\n",
       "  '5   De 3 ejemplos distintos  reales si conoce  o invente  de experiencias con estimulación                           de los sentidos ',\n",
       "  1.0000000000000002,\n",
       "  'Entrenamiento/K5071 - Matias David Choren - TP3 - Experience Economy'),\n",
       " ('6  Qué es la personalización masiva ',\n",
       "  '6 Qué es la personalización masiva ',\n",
       "  1.0000000000000002,\n",
       "  'Entrenamiento/K5071 - Matias David Choren - TP3 - Experience Economy'),\n",
       " ('Explique la progresión del valor ',\n",
       "  'Explique la progresión del valor ',\n",
       "  0.9999999999999998,\n",
       "  'Entrenamiento/K5071 - Matias David Choren - TP3 - Experience Economy'),\n",
       " ('7  Cuáles son las ventajas para la empresa de la personalización masiva ',\n",
       "  '7 Cuáles son las ventajas para la empresa de la personalización masiva ',\n",
       "  1.0,\n",
       "  'Entrenamiento/K5071 - Matias David Choren - TP3 - Experience Economy'),\n",
       " ('8  Describa los 4 tipos de personalización masiva ',\n",
       "  '8 Describa los 4 tipos de personalización masiva ',\n",
       "  0.9999999999999998,\n",
       "  'Entrenamiento/K5071 - Matias David Choren - TP3 - Experience Economy'),\n",
       " ('9  Qué aporta el ciberespacio al tema  sacrificio del cliente ',\n",
       "  '9 Qué aporta el ciberespacio al tema sacrificio del cliente ',\n",
       "  0.9999999999999998,\n",
       "  'Entrenamiento/K5071 - Matias David Choren - TP3 - Experience Economy'),\n",
       " ('1  Los tres elementos que hacen resurgir con fuerza la idea de una economía de experiencia son:   El poder de la tecnología  como facilitador ',\n",
       "  'Los tres elementos que hacen resurgir con fuerza la idea de una economía de experiencia son:  La creciente intensidad de la competencia: que promueve la lucha por la diferenciación ',\n",
       "  0.7726832945548974,\n",
       "  'Entrenamiento/TP3 Economia de Experiencia - Vit Sabrina (1)'),\n",
       " ('  La intensidad de la competencia  que promueve la ducha por la diferenciación ',\n",
       "  'La creciente intensidad de la competencia  que promueve la lucha por la diferenciación ',\n",
       "  0.9389710680668849,\n",
       "  'Entrenamiento/TP3PabloPallocchi (1)'),\n",
       " ('4  Las impresiones son los recuerdos que las personas se llevan de las experiencias ',\n",
       "  '4  Impresiones son los recuerdos que uno se lleva de las experiencias ',\n",
       "  0.7745966692414834,\n",
       "  'Entrenamiento/Tp3 Filannino marketing en internet (1)'),\n",
       " ('Sus dimensiones son:  Tiempo: puede ser tradicional  contemporáneo o futurista ',\n",
       "  'Sus dimensiones son:  El tiempo : Tradicional contemporáneo futurista ',\n",
       "  0.7826237921249264,\n",
       "  'Entrenamiento/UTN Mktg 2016 - Modugno - TP3'),\n",
       " ('  Espacio: local o cosmopolita  hogareña o en el trabajo  en interiores o exteriores  etc ',\n",
       "  '  El espacio: se las puede diseñar locales o cosmopolitas  hogareñas o en el ámbito del trabajo  en interiores o en exteriores  etc ',\n",
       "  0.7817359599705717,\n",
       "  'Entrenamiento/TP3 - Economia de experiencia - Joel Melamed'),\n",
       " ('  Tecnología: de vanguardia o artesanal  natural o artificial ',\n",
       "  '  La tecnología : De vanguardia nuevo o vieja artesanal natural o artificial ',\n",
       "  0.8770580193070293,\n",
       "  'Entrenamiento/UTN Mktg 2016 - Modugno - TP3'),\n",
       " ('  Escala: algo grandioso o sencillo y pequeño ',\n",
       "  'Escala : grandioso o sencillo y pequeño ',\n",
       "  0.9258200997725514,\n",
       "  'Entrenamiento/TP3PabloPallocchi (1)'),\n",
       " ('6  La personalización masiva permite atender a los clientes de forma única  combinando los imperativos vigentes de bajo costo e individualización que imponen los mercados ',\n",
       "  'La personalización masiva permite atender a los clientes de una forma única  combinando los imperativos vigentes de bajo costo e individualización q imponen los actuales mercados ',\n",
       "  0.9254762227411248,\n",
       "  'Entrenamiento/TP3 Economia de Experiencia - Vit Sabrina (1)'),\n",
       " ('Luego deben medir el  sacrificio del cliente  es decir  la brecha entre lo que quiere y lo que acepta ',\n",
       "  'El ciberespacio permite calcular de manera más precisa la diferencia entre lo que el cliente quiere y lo  que el cliente termina aceptando lo que es denominado  sacrificio del cliente ',\n",
       "  0.7093804422989572,\n",
       "  'Entrenamiento/TP N° 3 – The Experience Economy - Melanie Blejter'),\n",
       " ('7  Las ventajas para la empresa son: mejores precios  menos necesidad de otorgar descuentos  mayor ingreso por cliente  más clientes con menos costo de adquisición  niveles de retención más altos  etc ',\n",
       "  'Las ventajas de la personalización masiva son:  Mejores precios  Menos necesidad de descuentos  Mayores ingresos por cliente  Más clientes con menores costos de adquisición  Niveles de retención más altos 8 ',\n",
       "  0.8004987358916189,\n",
       "  'Entrenamiento/TP3 - Ignacio Penacino - Marketing (1)'),\n",
       " ('  Adaptativa: el cliente  personaliza  el producto y la representación a partir de cierta funcionalidad incluida en la oferta ',\n",
       "  '  Adaptativa: El cliente personaliza el producto y su representación a partir de cierta funcionalidad incluida en la oferta ',\n",
       "  0.9534625892455921,\n",
       "  'Entrenamiento/TP 3 (1)'),\n",
       " ('  Cosmética: solo se trata de personalizar la representación  la compañía genera varias opciones para un solo producto ',\n",
       "  '  Personalización cosmética  experiencia gratificante : Solo se trata de  customizar  la representación  para lo que la compañía genera distintas opciones para un mismo producto ',\n",
       "  0.7559289460184544,\n",
       "  'Entrenamiento/TP3 - Economia de experiencia - Joel Melamed'),\n",
       " ('  Transparente: el cliente recibe una oferta a medida sin enterarse explícitamente del proceso de personalización que recibe ',\n",
       "  '  Transparente: El cliente recibe una oferta a medida sin enterarse explicitamente del proceso de personalización ',\n",
       "  0.8885233166386385,\n",
       "  'Entrenamiento/TP 3 (1)'),\n",
       " ('9  El ciberespacio es un excelente medio para evaluar el nivel de sacrificio del cliente debido a su interactividad ',\n",
       "  'Dada su interactividad inherente  es un excelente medio para evaluar el nivel de sacrificio ',\n",
       "  0.7581753965757457,\n",
       "  'Entrenamiento/TP3PabloPallocchi (1)')]"
      ]
     },
     "execution_count": 47,
     "metadata": {},
     "output_type": "execute_result"
    }
   ],
   "source": [
    "# Obtener Plagio de otros tps\n",
    "# falta ver que tp pasó primero, que porcentaje poner como limite, que las consignas no sean plagio\n",
    "porcentajes_de_aparicion = [obtener_oracion_mas_parecida(oracion) for oracion in sent_tokenize(archivo_test_txt.texto.strip())]\n",
    "[(oracion,posible_plagio,porcentaje,archivo) for (oracion,posible_plagio,porcentaje,archivo) in porcentajes_de_aparicion if porcentaje>0.7]"
   ]
  },
  {
   "cell_type": "code",
   "execution_count": null,
   "metadata": {},
   "outputs": [],
   "source": []
  }
 ],
 "metadata": {
  "kernelspec": {
   "display_name": "Python [conda env:nlp2020] *",
   "language": "python",
   "name": "conda-env-nlp2020-py"
  },
  "language_info": {
   "codemirror_mode": {
    "name": "ipython",
    "version": 3
   },
   "file_extension": ".py",
   "mimetype": "text/x-python",
   "name": "python",
   "nbconvert_exporter": "python",
   "pygments_lexer": "ipython3",
   "version": "3.7.7"
  }
 },
 "nbformat": 4,
 "nbformat_minor": 4
}
